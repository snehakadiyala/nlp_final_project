{
 "cells": [
  {
   "cell_type": "code",
   "execution_count": 1,
   "id": "67b326c2",
   "metadata": {},
   "outputs": [],
   "source": [
    "%load_ext autoreload\n",
    "%autoreload 2\n",
    "\n",
    "import os\n",
    "import numpy as np\n",
    "import pandas as pd\n",
    "from tqdm import tqdm_notebook as tqdm\n",
    "import math\n",
    "from sklearn.model_selection import train_test_split\n",
    "from sklearn.metrics import f1_score, precision_score, recall_score\n",
    "# from keras.utils.data_utils import GeneratorEnqueuer  # We only want this for multithreaded \n",
    "\n",
    "from torch.autograd import Variable\n",
    "import torch.nn as nn\n",
    "import torch.optim as optim\n",
    "from torch.nn.utils.rnn import pack_padded_sequence\n",
    "from torch import Tensor\n",
    "import torch\n",
    "import pickle"
   ]
  },
  {
   "cell_type": "code",
   "execution_count": null,
   "id": "6086001c",
   "metadata": {},
   "outputs": [],
   "source": [
    "test_df = pd.read_csv(\"data/test_df_lstm.csv\")\n",
    "model = pickle.load(\"data/finalized_model_lstm.pkl\")"
   ]
  },
  {
   "cell_type": "code",
   "execution_count": null,
   "id": "8cbafc76",
   "metadata": {},
   "outputs": [],
   "source": [
    "embeddings_index = {}\n",
    "f = open('data/glove.840B.300d.txt', encoding = 'utf-8')\n",
    "for line in tqdm(f):\n",
    "    values = line.split(\" \")\n",
    "    word = values[0]\n",
    "    coefs = np.asarray(values[1:], dtype='float32')\n",
    "    embeddings_index[word] = coefs\n",
    "f.close()\n",
    "\n",
    "print('Found %s word vectors.' % len(embeddings_index))"
   ]
  },
  {
   "cell_type": "code",
   "execution_count": null,
   "id": "cb0ac3ce",
   "metadata": {},
   "outputs": [],
   "source": [
    "def text_to_array(text):\n",
    "  \n",
    "    empyt_emb = np.zeros(300)\n",
    "    text = text[:-1].split()[:120]\n",
    "  \n",
    "    embeds = [embeddings_index.get(x, empyt_emb) for x in text]\n",
    "    seq_len = len(embeds)\n",
    " \n",
    "    embeds+= [empyt_emb] * (120 - len(embeds))\n",
    "    return np.array(embeds), seq_len"
   ]
  },
  {
   "cell_type": "code",
   "execution_count": null,
   "id": "4ecef110",
   "metadata": {},
   "outputs": [],
   "source": [
    "# generate test dataset\n",
    "embeddings = [text_to_array(X_text) for X_text in tqdm(test_df[\"question_text\"][:5000])]\n",
    "test_x, test_xlen = zip(*embeddings)\n",
    "\n",
    "sorder = np.argsort(test_xlen)[::-1]\n",
    "\n",
    "test_xlen = np.array(test_xlen)[sorder]\n",
    "test_x = np.array(test_x)[sorder]\n",
    "test_y = np.array(test_df[\"target\"][:5000])[sorder]"
   ]
  },
  {
   "cell_type": "code",
   "execution_count": null,
   "id": "a52a5528",
   "metadata": {},
   "outputs": [],
   "source": [
    "def test_gen(batch_size=256):\n",
    "    n_batches = math.ceil(len(test_x) / batch_size)\n",
    "    for idx in range(n_batches):\n",
    "        xb = test_x[idx *batch_size:(idx+1) * batch_size]\n",
    "        xlb = test_xlen[idx *batch_size:(idx+1) * batch_size]\n",
    "        yb = test_y[idx *batch_size:(idx+1) * batch_size]\n",
    "        yield xb, xlb, yb"
   ]
  },
  {
   "cell_type": "code",
   "execution_count": null,
   "id": "633976a5",
   "metadata": {},
   "outputs": [],
   "source": [
    "all_preds = []\n",
    "    for x, xlen, y in test_gen():\n",
    "        y_pred = model(Variable(Tensor(x)), xlen)\n",
    "        all_preds.extend(y_pred.cpu().data.numpy())"
   ]
  },
  {
   "cell_type": "code",
   "execution_count": null,
   "id": "c5c2b33d",
   "metadata": {},
   "outputs": [],
   "source": [
    "print(\"f1 score: \", f1_score(test_y, np.array(all_preds).flatten() > 0.5))\n",
    "print(\"f1 score: \", precision_score(test_y, np.array(all_preds).flatten() > 0.5))\n",
    "print(\"f1 score: \", recall_score(test_y, np.array(all_preds).flatten() > 0.5))"
   ]
  }
 ],
 "metadata": {
  "kernelspec": {
   "display_name": "Python 3",
   "language": "python",
   "name": "python3"
  },
  "language_info": {
   "codemirror_mode": {
    "name": "ipython",
    "version": 3
   },
   "file_extension": ".py",
   "mimetype": "text/x-python",
   "name": "python",
   "nbconvert_exporter": "python",
   "pygments_lexer": "ipython3",
   "version": "3.8.12"
  }
 },
 "nbformat": 4,
 "nbformat_minor": 5
}
