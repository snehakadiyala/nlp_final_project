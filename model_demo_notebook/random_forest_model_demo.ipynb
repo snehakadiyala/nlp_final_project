{
 "cells": [
  {
   "cell_type": "code",
   "execution_count": 1,
   "id": "7e8ddec1",
   "metadata": {},
   "outputs": [
    {
     "name": "stdout",
     "output_type": "stream",
     "text": [
      "Requirement already satisfied: pickle-mixin in /Users/skadiyala/.local/share/virtualenvs/skadiyala-ohc0HFvW/lib/python3.9/site-packages (1.0.2)\r\n"
     ]
    }
   ],
   "source": [
    "!pip install pickle-mixin\n",
    "import pandas as pd\n",
    "import string\n",
    "import re\n",
    "import numpy as np\n",
    "import pickle\n",
    "from sklearn.metrics import classification_report"
   ]
  },
  {
   "cell_type": "code",
   "execution_count": 2,
   "id": "66191726",
   "metadata": {},
   "outputs": [],
   "source": [
    "tfidf_random_forest = pickle.load(open('./data/tfidf_random_forest.pkl', 'rb'))\n",
    "tfidf_model = pickle.load(open('./data/tfidf.pk', 'rb'))"
   ]
  },
  {
   "cell_type": "code",
   "execution_count": 3,
   "id": "3881abff",
   "metadata": {},
   "outputs": [],
   "source": [
    "test_data = pd.read_csv(\"./data/test_data.csv\")\n",
    "test_tfidf = tfidf_model.transform(test_data[\"text\"].values.astype('U'))\n",
    "target_test = test_data[\"label\"]"
   ]
  },
  {
   "cell_type": "code",
   "execution_count": 4,
   "id": "c724b6f2",
   "metadata": {},
   "outputs": [],
   "source": [
    "tfidf_preds = tfidf_random_forest.predict(test_tfidf)"
   ]
  },
  {
   "cell_type": "code",
   "execution_count": 5,
   "id": "ecb4de14",
   "metadata": {},
   "outputs": [
    {
     "name": "stdout",
     "output_type": "stream",
     "text": [
      "              precision    recall  f1-score   support\n",
      "\n",
      "           0       0.80      0.87      0.83     20181\n",
      "           1       0.86      0.78      0.82     20224\n",
      "\n",
      "    accuracy                           0.82     40405\n",
      "   macro avg       0.83      0.82      0.82     40405\n",
      "weighted avg       0.83      0.82      0.82     40405\n",
      "\n"
     ]
    }
   ],
   "source": [
    "print(classification_report(target_test, tfidf_preds))"
   ]
  }
 ],
 "metadata": {
  "kernelspec": {
   "display_name": "Python 3 (ipykernel)",
   "language": "python",
   "name": "python3"
  },
  "language_info": {
   "codemirror_mode": {
    "name": "ipython",
    "version": 3
   },
   "file_extension": ".py",
   "mimetype": "text/x-python",
   "name": "python",
   "nbconvert_exporter": "python",
   "pygments_lexer": "ipython3",
   "version": "3.7.12"
  }
 },
 "nbformat": 4,
 "nbformat_minor": 5
}
