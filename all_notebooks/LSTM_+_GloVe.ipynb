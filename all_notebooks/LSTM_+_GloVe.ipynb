{
  "nbformat": 4,
  "nbformat_minor": 5,
  "metadata": {
    "kernelspec": {
      "display_name": "Python 3",
      "language": "python",
      "name": "python3"
    },
    "language_info": {
      "codemirror_mode": {
        "name": "ipython",
        "version": 3
      },
      "file_extension": ".py",
      "mimetype": "text/x-python",
      "name": "python",
      "nbconvert_exporter": "python",
      "pygments_lexer": "ipython3",
      "version": "3.8.12"
    },
    "colab": {
      "name": "LSTM + GloVe.ipynb",
      "provenance": [],
      "collapsed_sections": [],
      "machine_shape": "hm"
    },
    "accelerator": "GPU",
    "widgets": {
      "application/vnd.jupyter.widget-state+json": {
        "3ae6e5ffe23b49f7bb7b05461b505da9": {
          "model_module": "@jupyter-widgets/controls",
          "model_name": "HBoxModel",
          "model_module_version": "1.5.0",
          "state": {
            "_view_name": "HBoxView",
            "_dom_classes": [],
            "_model_name": "HBoxModel",
            "_view_module": "@jupyter-widgets/controls",
            "_model_module_version": "1.5.0",
            "_view_count": null,
            "_view_module_version": "1.5.0",
            "box_style": "",
            "layout": "IPY_MODEL_419a49939e6940099c8a1c6c2cda026c",
            "_model_module": "@jupyter-widgets/controls",
            "children": [
              "IPY_MODEL_7a7e50008c8f44bd9d5f692357cefe35",
              "IPY_MODEL_3da546cf2b794a47ad627df061a3f5f5",
              "IPY_MODEL_7d0b479ba5514d50b03b7d23da795365"
            ]
          }
        },
        "419a49939e6940099c8a1c6c2cda026c": {
          "model_module": "@jupyter-widgets/base",
          "model_name": "LayoutModel",
          "model_module_version": "1.2.0",
          "state": {
            "_view_name": "LayoutView",
            "grid_template_rows": null,
            "right": null,
            "justify_content": null,
            "_view_module": "@jupyter-widgets/base",
            "overflow": null,
            "_model_module_version": "1.2.0",
            "_view_count": null,
            "flex_flow": null,
            "width": null,
            "min_width": null,
            "border": null,
            "align_items": null,
            "bottom": null,
            "_model_module": "@jupyter-widgets/base",
            "top": null,
            "grid_column": null,
            "overflow_y": null,
            "overflow_x": null,
            "grid_auto_flow": null,
            "grid_area": null,
            "grid_template_columns": null,
            "flex": null,
            "_model_name": "LayoutModel",
            "justify_items": null,
            "grid_row": null,
            "max_height": null,
            "align_content": null,
            "visibility": null,
            "align_self": null,
            "height": null,
            "min_height": null,
            "padding": null,
            "grid_auto_rows": null,
            "grid_gap": null,
            "max_width": null,
            "order": null,
            "_view_module_version": "1.2.0",
            "grid_template_areas": null,
            "object_position": null,
            "object_fit": null,
            "grid_auto_columns": null,
            "margin": null,
            "display": null,
            "left": null
          }
        },
        "7a7e50008c8f44bd9d5f692357cefe35": {
          "model_module": "@jupyter-widgets/controls",
          "model_name": "HTMLModel",
          "model_module_version": "1.5.0",
          "state": {
            "_view_name": "HTMLView",
            "style": "IPY_MODEL_ad179c45404b48b99b9f2e83e5d46743",
            "_dom_classes": [],
            "description": "",
            "_model_name": "HTMLModel",
            "placeholder": "​",
            "_view_module": "@jupyter-widgets/controls",
            "_model_module_version": "1.5.0",
            "value": "",
            "_view_count": null,
            "_view_module_version": "1.5.0",
            "description_tooltip": null,
            "_model_module": "@jupyter-widgets/controls",
            "layout": "IPY_MODEL_ca0b8692a8144d0daffc621c5de582fd"
          }
        },
        "3da546cf2b794a47ad627df061a3f5f5": {
          "model_module": "@jupyter-widgets/controls",
          "model_name": "FloatProgressModel",
          "model_module_version": "1.5.0",
          "state": {
            "_view_name": "ProgressView",
            "style": "IPY_MODEL_cae0070b02b94c0f94755bccf80ace05",
            "_dom_classes": [],
            "description": "",
            "_model_name": "FloatProgressModel",
            "bar_style": "danger",
            "max": 1,
            "_view_module": "@jupyter-widgets/controls",
            "_model_module_version": "1.5.0",
            "value": 1,
            "_view_count": null,
            "_view_module_version": "1.5.0",
            "orientation": "horizontal",
            "min": 0,
            "description_tooltip": null,
            "_model_module": "@jupyter-widgets/controls",
            "layout": "IPY_MODEL_e196d2b17e01441292a87e1ab809e6e0"
          }
        },
        "7d0b479ba5514d50b03b7d23da795365": {
          "model_module": "@jupyter-widgets/controls",
          "model_name": "HTMLModel",
          "model_module_version": "1.5.0",
          "state": {
            "_view_name": "HTMLView",
            "style": "IPY_MODEL_81f84f32dfee463e9eb64f5b00445865",
            "_dom_classes": [],
            "description": "",
            "_model_name": "HTMLModel",
            "placeholder": "​",
            "_view_module": "@jupyter-widgets/controls",
            "_model_module_version": "1.5.0",
            "value": " 11999/? [26:49&lt;00:00,  7.48it/s]",
            "_view_count": null,
            "_view_module_version": "1.5.0",
            "description_tooltip": null,
            "_model_module": "@jupyter-widgets/controls",
            "layout": "IPY_MODEL_95ac80e450e7452d8bbc6680ed5f05cf"
          }
        },
        "ad179c45404b48b99b9f2e83e5d46743": {
          "model_module": "@jupyter-widgets/controls",
          "model_name": "DescriptionStyleModel",
          "model_module_version": "1.5.0",
          "state": {
            "_view_name": "StyleView",
            "_model_name": "DescriptionStyleModel",
            "description_width": "",
            "_view_module": "@jupyter-widgets/base",
            "_model_module_version": "1.5.0",
            "_view_count": null,
            "_view_module_version": "1.2.0",
            "_model_module": "@jupyter-widgets/controls"
          }
        },
        "ca0b8692a8144d0daffc621c5de582fd": {
          "model_module": "@jupyter-widgets/base",
          "model_name": "LayoutModel",
          "model_module_version": "1.2.0",
          "state": {
            "_view_name": "LayoutView",
            "grid_template_rows": null,
            "right": null,
            "justify_content": null,
            "_view_module": "@jupyter-widgets/base",
            "overflow": null,
            "_model_module_version": "1.2.0",
            "_view_count": null,
            "flex_flow": null,
            "width": null,
            "min_width": null,
            "border": null,
            "align_items": null,
            "bottom": null,
            "_model_module": "@jupyter-widgets/base",
            "top": null,
            "grid_column": null,
            "overflow_y": null,
            "overflow_x": null,
            "grid_auto_flow": null,
            "grid_area": null,
            "grid_template_columns": null,
            "flex": null,
            "_model_name": "LayoutModel",
            "justify_items": null,
            "grid_row": null,
            "max_height": null,
            "align_content": null,
            "visibility": null,
            "align_self": null,
            "height": null,
            "min_height": null,
            "padding": null,
            "grid_auto_rows": null,
            "grid_gap": null,
            "max_width": null,
            "order": null,
            "_view_module_version": "1.2.0",
            "grid_template_areas": null,
            "object_position": null,
            "object_fit": null,
            "grid_auto_columns": null,
            "margin": null,
            "display": null,
            "left": null
          }
        },
        "cae0070b02b94c0f94755bccf80ace05": {
          "model_module": "@jupyter-widgets/controls",
          "model_name": "ProgressStyleModel",
          "model_module_version": "1.5.0",
          "state": {
            "_view_name": "StyleView",
            "_model_name": "ProgressStyleModel",
            "description_width": "",
            "_view_module": "@jupyter-widgets/base",
            "_model_module_version": "1.5.0",
            "_view_count": null,
            "_view_module_version": "1.2.0",
            "bar_color": null,
            "_model_module": "@jupyter-widgets/controls"
          }
        },
        "e196d2b17e01441292a87e1ab809e6e0": {
          "model_module": "@jupyter-widgets/base",
          "model_name": "LayoutModel",
          "model_module_version": "1.2.0",
          "state": {
            "_view_name": "LayoutView",
            "grid_template_rows": null,
            "right": null,
            "justify_content": null,
            "_view_module": "@jupyter-widgets/base",
            "overflow": null,
            "_model_module_version": "1.2.0",
            "_view_count": null,
            "flex_flow": null,
            "width": "20px",
            "min_width": null,
            "border": null,
            "align_items": null,
            "bottom": null,
            "_model_module": "@jupyter-widgets/base",
            "top": null,
            "grid_column": null,
            "overflow_y": null,
            "overflow_x": null,
            "grid_auto_flow": null,
            "grid_area": null,
            "grid_template_columns": null,
            "flex": null,
            "_model_name": "LayoutModel",
            "justify_items": null,
            "grid_row": null,
            "max_height": null,
            "align_content": null,
            "visibility": null,
            "align_self": null,
            "height": null,
            "min_height": null,
            "padding": null,
            "grid_auto_rows": null,
            "grid_gap": null,
            "max_width": null,
            "order": null,
            "_view_module_version": "1.2.0",
            "grid_template_areas": null,
            "object_position": null,
            "object_fit": null,
            "grid_auto_columns": null,
            "margin": null,
            "display": null,
            "left": null
          }
        },
        "81f84f32dfee463e9eb64f5b00445865": {
          "model_module": "@jupyter-widgets/controls",
          "model_name": "DescriptionStyleModel",
          "model_module_version": "1.5.0",
          "state": {
            "_view_name": "StyleView",
            "_model_name": "DescriptionStyleModel",
            "description_width": "",
            "_view_module": "@jupyter-widgets/base",
            "_model_module_version": "1.5.0",
            "_view_count": null,
            "_view_module_version": "1.2.0",
            "_model_module": "@jupyter-widgets/controls"
          }
        },
        "95ac80e450e7452d8bbc6680ed5f05cf": {
          "model_module": "@jupyter-widgets/base",
          "model_name": "LayoutModel",
          "model_module_version": "1.2.0",
          "state": {
            "_view_name": "LayoutView",
            "grid_template_rows": null,
            "right": null,
            "justify_content": null,
            "_view_module": "@jupyter-widgets/base",
            "overflow": null,
            "_model_module_version": "1.2.0",
            "_view_count": null,
            "flex_flow": null,
            "width": null,
            "min_width": null,
            "border": null,
            "align_items": null,
            "bottom": null,
            "_model_module": "@jupyter-widgets/base",
            "top": null,
            "grid_column": null,
            "overflow_y": null,
            "overflow_x": null,
            "grid_auto_flow": null,
            "grid_area": null,
            "grid_template_columns": null,
            "flex": null,
            "_model_name": "LayoutModel",
            "justify_items": null,
            "grid_row": null,
            "max_height": null,
            "align_content": null,
            "visibility": null,
            "align_self": null,
            "height": null,
            "min_height": null,
            "padding": null,
            "grid_auto_rows": null,
            "grid_gap": null,
            "max_width": null,
            "order": null,
            "_view_module_version": "1.2.0",
            "grid_template_areas": null,
            "object_position": null,
            "object_fit": null,
            "grid_auto_columns": null,
            "margin": null,
            "display": null,
            "left": null
          }
        },
        "2cb52fddb7e14fe6980e907450737056": {
          "model_module": "@jupyter-widgets/controls",
          "model_name": "HBoxModel",
          "model_module_version": "1.5.0",
          "state": {
            "_view_name": "HBoxView",
            "_dom_classes": [],
            "_model_name": "HBoxModel",
            "_view_module": "@jupyter-widgets/controls",
            "_model_module_version": "1.5.0",
            "_view_count": null,
            "_view_module_version": "1.5.0",
            "box_style": "",
            "layout": "IPY_MODEL_4f7fa5b32517430b9644db81184da68e",
            "_model_module": "@jupyter-widgets/controls",
            "children": [
              "IPY_MODEL_7832d87f11d342fe96688e9fcc9d898d",
              "IPY_MODEL_76769b17deef4617a9fd83ad7d37b513",
              "IPY_MODEL_fcb8f508875c48c9a1e3121424d35009"
            ]
          }
        },
        "4f7fa5b32517430b9644db81184da68e": {
          "model_module": "@jupyter-widgets/base",
          "model_name": "LayoutModel",
          "model_module_version": "1.2.0",
          "state": {
            "_view_name": "LayoutView",
            "grid_template_rows": null,
            "right": null,
            "justify_content": null,
            "_view_module": "@jupyter-widgets/base",
            "overflow": null,
            "_model_module_version": "1.2.0",
            "_view_count": null,
            "flex_flow": null,
            "width": null,
            "min_width": null,
            "border": null,
            "align_items": null,
            "bottom": null,
            "_model_module": "@jupyter-widgets/base",
            "top": null,
            "grid_column": null,
            "overflow_y": null,
            "overflow_x": null,
            "grid_auto_flow": null,
            "grid_area": null,
            "grid_template_columns": null,
            "flex": null,
            "_model_name": "LayoutModel",
            "justify_items": null,
            "grid_row": null,
            "max_height": null,
            "align_content": null,
            "visibility": null,
            "align_self": null,
            "height": null,
            "min_height": null,
            "padding": null,
            "grid_auto_rows": null,
            "grid_gap": null,
            "max_width": null,
            "order": null,
            "_view_module_version": "1.2.0",
            "grid_template_areas": null,
            "object_position": null,
            "object_fit": null,
            "grid_auto_columns": null,
            "margin": null,
            "display": null,
            "left": null
          }
        },
        "7832d87f11d342fe96688e9fcc9d898d": {
          "model_module": "@jupyter-widgets/controls",
          "model_name": "HTMLModel",
          "model_module_version": "1.5.0",
          "state": {
            "_view_name": "HTMLView",
            "style": "IPY_MODEL_1c9d8e1311aa4374b9d27ddb83328cca",
            "_dom_classes": [],
            "description": "",
            "_model_name": "HTMLModel",
            "placeholder": "​",
            "_view_module": "@jupyter-widgets/controls",
            "_model_module_version": "1.5.0",
            "value": "",
            "_view_count": null,
            "_view_module_version": "1.5.0",
            "description_tooltip": null,
            "_model_module": "@jupyter-widgets/controls",
            "layout": "IPY_MODEL_f04ec53a08484534977fe4d7e59b206f"
          }
        },
        "76769b17deef4617a9fd83ad7d37b513": {
          "model_module": "@jupyter-widgets/controls",
          "model_name": "FloatProgressModel",
          "model_module_version": "1.5.0",
          "state": {
            "_view_name": "ProgressView",
            "style": "IPY_MODEL_8bfe6e15c4df4b1e9f3370d2d6343068",
            "_dom_classes": [],
            "description": "",
            "_model_name": "FloatProgressModel",
            "bar_style": "info",
            "max": 1,
            "_view_module": "@jupyter-widgets/controls",
            "_model_module_version": "1.5.0",
            "value": 1,
            "_view_count": null,
            "_view_module_version": "1.5.0",
            "orientation": "horizontal",
            "min": 0,
            "description_tooltip": null,
            "_model_module": "@jupyter-widgets/controls",
            "layout": "IPY_MODEL_5891b3c925ab4a2083a1302ab0eecffe"
          }
        },
        "fcb8f508875c48c9a1e3121424d35009": {
          "model_module": "@jupyter-widgets/controls",
          "model_name": "HTMLModel",
          "model_module_version": "1.5.0",
          "state": {
            "_view_name": "HTMLView",
            "style": "IPY_MODEL_2fdea420d746423f96c9ddb8179908bd",
            "_dom_classes": [],
            "description": "",
            "_model_name": "HTMLModel",
            "placeholder": "​",
            "_view_module": "@jupyter-widgets/controls",
            "_model_module_version": "1.5.0",
            "value": " 267004/? [00:17&lt;00:00, 16266.91it/s]",
            "_view_count": null,
            "_view_module_version": "1.5.0",
            "description_tooltip": null,
            "_model_module": "@jupyter-widgets/controls",
            "layout": "IPY_MODEL_8485b1e5a7aa42d7bc0933631101acb1"
          }
        },
        "1c9d8e1311aa4374b9d27ddb83328cca": {
          "model_module": "@jupyter-widgets/controls",
          "model_name": "DescriptionStyleModel",
          "model_module_version": "1.5.0",
          "state": {
            "_view_name": "StyleView",
            "_model_name": "DescriptionStyleModel",
            "description_width": "",
            "_view_module": "@jupyter-widgets/base",
            "_model_module_version": "1.5.0",
            "_view_count": null,
            "_view_module_version": "1.2.0",
            "_model_module": "@jupyter-widgets/controls"
          }
        },
        "f04ec53a08484534977fe4d7e59b206f": {
          "model_module": "@jupyter-widgets/base",
          "model_name": "LayoutModel",
          "model_module_version": "1.2.0",
          "state": {
            "_view_name": "LayoutView",
            "grid_template_rows": null,
            "right": null,
            "justify_content": null,
            "_view_module": "@jupyter-widgets/base",
            "overflow": null,
            "_model_module_version": "1.2.0",
            "_view_count": null,
            "flex_flow": null,
            "width": null,
            "min_width": null,
            "border": null,
            "align_items": null,
            "bottom": null,
            "_model_module": "@jupyter-widgets/base",
            "top": null,
            "grid_column": null,
            "overflow_y": null,
            "overflow_x": null,
            "grid_auto_flow": null,
            "grid_area": null,
            "grid_template_columns": null,
            "flex": null,
            "_model_name": "LayoutModel",
            "justify_items": null,
            "grid_row": null,
            "max_height": null,
            "align_content": null,
            "visibility": null,
            "align_self": null,
            "height": null,
            "min_height": null,
            "padding": null,
            "grid_auto_rows": null,
            "grid_gap": null,
            "max_width": null,
            "order": null,
            "_view_module_version": "1.2.0",
            "grid_template_areas": null,
            "object_position": null,
            "object_fit": null,
            "grid_auto_columns": null,
            "margin": null,
            "display": null,
            "left": null
          }
        },
        "8bfe6e15c4df4b1e9f3370d2d6343068": {
          "model_module": "@jupyter-widgets/controls",
          "model_name": "ProgressStyleModel",
          "model_module_version": "1.5.0",
          "state": {
            "_view_name": "StyleView",
            "_model_name": "ProgressStyleModel",
            "description_width": "",
            "_view_module": "@jupyter-widgets/base",
            "_model_module_version": "1.5.0",
            "_view_count": null,
            "_view_module_version": "1.2.0",
            "bar_color": null,
            "_model_module": "@jupyter-widgets/controls"
          }
        },
        "5891b3c925ab4a2083a1302ab0eecffe": {
          "model_module": "@jupyter-widgets/base",
          "model_name": "LayoutModel",
          "model_module_version": "1.2.0",
          "state": {
            "_view_name": "LayoutView",
            "grid_template_rows": null,
            "right": null,
            "justify_content": null,
            "_view_module": "@jupyter-widgets/base",
            "overflow": null,
            "_model_module_version": "1.2.0",
            "_view_count": null,
            "flex_flow": null,
            "width": "20px",
            "min_width": null,
            "border": null,
            "align_items": null,
            "bottom": null,
            "_model_module": "@jupyter-widgets/base",
            "top": null,
            "grid_column": null,
            "overflow_y": null,
            "overflow_x": null,
            "grid_auto_flow": null,
            "grid_area": null,
            "grid_template_columns": null,
            "flex": null,
            "_model_name": "LayoutModel",
            "justify_items": null,
            "grid_row": null,
            "max_height": null,
            "align_content": null,
            "visibility": null,
            "align_self": null,
            "height": null,
            "min_height": null,
            "padding": null,
            "grid_auto_rows": null,
            "grid_gap": null,
            "max_width": null,
            "order": null,
            "_view_module_version": "1.2.0",
            "grid_template_areas": null,
            "object_position": null,
            "object_fit": null,
            "grid_auto_columns": null,
            "margin": null,
            "display": null,
            "left": null
          }
        },
        "2fdea420d746423f96c9ddb8179908bd": {
          "model_module": "@jupyter-widgets/controls",
          "model_name": "DescriptionStyleModel",
          "model_module_version": "1.5.0",
          "state": {
            "_view_name": "StyleView",
            "_model_name": "DescriptionStyleModel",
            "description_width": "",
            "_view_module": "@jupyter-widgets/base",
            "_model_module_version": "1.5.0",
            "_view_count": null,
            "_view_module_version": "1.2.0",
            "_model_module": "@jupyter-widgets/controls"
          }
        },
        "8485b1e5a7aa42d7bc0933631101acb1": {
          "model_module": "@jupyter-widgets/base",
          "model_name": "LayoutModel",
          "model_module_version": "1.2.0",
          "state": {
            "_view_name": "LayoutView",
            "grid_template_rows": null,
            "right": null,
            "justify_content": null,
            "_view_module": "@jupyter-widgets/base",
            "overflow": null,
            "_model_module_version": "1.2.0",
            "_view_count": null,
            "flex_flow": null,
            "width": null,
            "min_width": null,
            "border": null,
            "align_items": null,
            "bottom": null,
            "_model_module": "@jupyter-widgets/base",
            "top": null,
            "grid_column": null,
            "overflow_y": null,
            "overflow_x": null,
            "grid_auto_flow": null,
            "grid_area": null,
            "grid_template_columns": null,
            "flex": null,
            "_model_name": "LayoutModel",
            "justify_items": null,
            "grid_row": null,
            "max_height": null,
            "align_content": null,
            "visibility": null,
            "align_self": null,
            "height": null,
            "min_height": null,
            "padding": null,
            "grid_auto_rows": null,
            "grid_gap": null,
            "max_width": null,
            "order": null,
            "_view_module_version": "1.2.0",
            "grid_template_areas": null,
            "object_position": null,
            "object_fit": null,
            "grid_auto_columns": null,
            "margin": null,
            "display": null,
            "left": null
          }
        }
      }
    }
  },
  "cells": [
    {
      "cell_type": "code",
      "metadata": {
        "colab": {
          "base_uri": "https://localhost:8080/"
        },
        "id": "HH9m8NaOiO-T",
        "outputId": "9b4a4900-27a3-41ab-a5f1-0cadb2568ae6"
      },
      "source": [
        "from google.colab import drive\n",
        "\n",
        "drive.mount('/content/gdrive')"
      ],
      "id": "HH9m8NaOiO-T",
      "execution_count": null,
      "outputs": [
        {
          "output_type": "stream",
          "name": "stdout",
          "text": [
            "Drive already mounted at /content/gdrive; to attempt to forcibly remount, call drive.mount(\"/content/gdrive\", force_remount=True).\n"
          ]
        }
      ]
    },
    {
      "cell_type": "code",
      "metadata": {
        "id": "12a3c16c"
      },
      "source": [
        "%load_ext autoreload\n",
        "%autoreload 2\n",
        "\n",
        "import os\n",
        "import numpy as np\n",
        "import pandas as pd\n",
        "from tqdm import tqdm_notebook as tqdm\n",
        "import math\n",
        "from sklearn.model_selection import train_test_split\n",
        "from sklearn.metrics import f1_score, precision_score, recall_score\n",
        "# from keras.utils.data_utils import GeneratorEnqueuer  # We only want this for multithreaded \n",
        "\n",
        "from torch.autograd import Variable\n",
        "import torch.nn as nn\n",
        "import torch.optim as optim\n",
        "from torch.nn.utils.rnn import pack_padded_sequence\n",
        "from torch import Tensor\n",
        "import torch"
      ],
      "id": "12a3c16c",
      "execution_count": null,
      "outputs": []
    },
    {
      "cell_type": "code",
      "metadata": {
        "id": "ac819f4d",
        "colab": {
          "base_uri": "https://localhost:8080/"
        },
        "outputId": "69e4a391-c532-4bcb-daac-db266a60f3cd"
      },
      "source": [
        "\n",
        "train_df = pd.read_csv(\"/content/gdrive/MyDrive/train.csv\")\n",
        "print(\"Raw Dataset: \", train_df.shape)\n",
        "keep = [len(x[:-1].split()) > 0 for x in train_df[\"question_text\"]]\n",
        "train_df = train_df[keep]\n",
        "print(\"After removing empty text:\", train_df.shape)\n",
        "train_df, val_df = train_test_split(train_df, test_size=0.2)\n",
        "val_df.to_csv(\"val_df.csv\")"
      ],
      "id": "ac819f4d",
      "execution_count": null,
      "outputs": [
        {
          "output_type": "stream",
          "name": "stdout",
          "text": [
            "Raw Dataset:  (1306122, 3)\n",
            "After removing empty text: (1306120, 3)\n"
          ]
        }
      ]
    },
    {
      "cell_type": "code",
      "metadata": {
        "colab": {
          "base_uri": "https://localhost:8080/",
          "height": 363
        },
        "id": "c2e11561",
        "outputId": "0ebac76c-e465-4bca-e079-9830265703d0"
      },
      "source": [
        "train_df.head(10)"
      ],
      "id": "c2e11561",
      "execution_count": null,
      "outputs": [
        {
          "output_type": "execute_result",
          "data": {
            "text/html": [
              "<div>\n",
              "<style scoped>\n",
              "    .dataframe tbody tr th:only-of-type {\n",
              "        vertical-align: middle;\n",
              "    }\n",
              "\n",
              "    .dataframe tbody tr th {\n",
              "        vertical-align: top;\n",
              "    }\n",
              "\n",
              "    .dataframe thead th {\n",
              "        text-align: right;\n",
              "    }\n",
              "</style>\n",
              "<table border=\"1\" class=\"dataframe\">\n",
              "  <thead>\n",
              "    <tr style=\"text-align: right;\">\n",
              "      <th></th>\n",
              "      <th>qid</th>\n",
              "      <th>question_text</th>\n",
              "      <th>target</th>\n",
              "    </tr>\n",
              "  </thead>\n",
              "  <tbody>\n",
              "    <tr>\n",
              "      <th>1249722</th>\n",
              "      <td>f4e7a7249a278080ac78</td>\n",
              "      <td>What was Jody Rosen's inspiration to write the...</td>\n",
              "      <td>0</td>\n",
              "    </tr>\n",
              "    <tr>\n",
              "      <th>1076973</th>\n",
              "      <td>d30c37789d0bb81c8d08</td>\n",
              "      <td>What do waiters feel when they see someone bei...</td>\n",
              "      <td>0</td>\n",
              "    </tr>\n",
              "    <tr>\n",
              "      <th>277364</th>\n",
              "      <td>364706e2c86f4f60ddbc</td>\n",
              "      <td>What Is a Decentralization of Currency?</td>\n",
              "      <td>0</td>\n",
              "    </tr>\n",
              "    <tr>\n",
              "      <th>367209</th>\n",
              "      <td>47fb19f0aef84108829c</td>\n",
              "      <td>Why do I struggle being myself?</td>\n",
              "      <td>0</td>\n",
              "    </tr>\n",
              "    <tr>\n",
              "      <th>265513</th>\n",
              "      <td>33f74d79a2e531415e19</td>\n",
              "      <td>I like LAMP because it seems like the easiest ...</td>\n",
              "      <td>0</td>\n",
              "    </tr>\n",
              "    <tr>\n",
              "      <th>30121</th>\n",
              "      <td>05e347a82a63bc5bb181</td>\n",
              "      <td>What marketing strategies does Frito-Lay, Inc....</td>\n",
              "      <td>0</td>\n",
              "    </tr>\n",
              "    <tr>\n",
              "      <th>539181</th>\n",
              "      <td>699fbedc322fbdb753e7</td>\n",
              "      <td>Do you agree that only real men can reject bea...</td>\n",
              "      <td>1</td>\n",
              "    </tr>\n",
              "    <tr>\n",
              "      <th>581151</th>\n",
              "      <td>71ddf515d4caadf750fb</td>\n",
              "      <td>How are the job prospects after an MS in CS fr...</td>\n",
              "      <td>0</td>\n",
              "    </tr>\n",
              "    <tr>\n",
              "      <th>249890</th>\n",
              "      <td>30e513eeaba9d9fe84dc</td>\n",
              "      <td>Do I have to attempt biology in KCET if I have...</td>\n",
              "      <td>0</td>\n",
              "    </tr>\n",
              "    <tr>\n",
              "      <th>1054692</th>\n",
              "      <td>cead3d125f7182dcf87f</td>\n",
              "      <td>How would you say \"Let's make Rome great again...</td>\n",
              "      <td>0</td>\n",
              "    </tr>\n",
              "  </tbody>\n",
              "</table>\n",
              "</div>"
            ],
            "text/plain": [
              "                          qid  ... target\n",
              "1249722  f4e7a7249a278080ac78  ...      0\n",
              "1076973  d30c37789d0bb81c8d08  ...      0\n",
              "277364   364706e2c86f4f60ddbc  ...      0\n",
              "367209   47fb19f0aef84108829c  ...      0\n",
              "265513   33f74d79a2e531415e19  ...      0\n",
              "30121    05e347a82a63bc5bb181  ...      0\n",
              "539181   699fbedc322fbdb753e7  ...      1\n",
              "581151   71ddf515d4caadf750fb  ...      0\n",
              "249890   30e513eeaba9d9fe84dc  ...      0\n",
              "1054692  cead3d125f7182dcf87f  ...      0\n",
              "\n",
              "[10 rows x 3 columns]"
            ]
          },
          "metadata": {},
          "execution_count": 4
        }
      ]
    },
    {
      "cell_type": "code",
      "metadata": {
        "colab": {
          "base_uri": "https://localhost:8080/",
          "height": 121,
          "referenced_widgets": [
            "2cb52fddb7e14fe6980e907450737056",
            "4f7fa5b32517430b9644db81184da68e",
            "7832d87f11d342fe96688e9fcc9d898d",
            "76769b17deef4617a9fd83ad7d37b513",
            "fcb8f508875c48c9a1e3121424d35009",
            "1c9d8e1311aa4374b9d27ddb83328cca",
            "f04ec53a08484534977fe4d7e59b206f",
            "8bfe6e15c4df4b1e9f3370d2d6343068",
            "5891b3c925ab4a2083a1302ab0eecffe",
            "2fdea420d746423f96c9ddb8179908bd",
            "8485b1e5a7aa42d7bc0933631101acb1"
          ]
        },
        "id": "bb361240",
        "outputId": "46a40392-42cd-42b8-cade-7c4c2048e0a4"
      },
      "source": [
        "# GloVe Embedding\n",
        "embeddings_index = {}\n",
        "f = open('/content/gdrive/MyDrive/glove.840B.300d.txt', encoding = 'utf-8')\n",
        "for line in tqdm(f):\n",
        "    values = line.split(\" \")\n",
        "    word = values[0]\n",
        "    coefs = np.asarray(values[1:], dtype='float32')\n",
        "    embeddings_index[word] = coefs\n",
        "f.close()\n",
        "\n",
        "print('Found %s word vectors.' % len(embeddings_index))"
      ],
      "id": "bb361240",
      "execution_count": null,
      "outputs": [
        {
          "output_type": "stream",
          "name": "stderr",
          "text": [
            "/usr/local/lib/python3.7/dist-packages/ipykernel_launcher.py:4: TqdmDeprecationWarning: This function will be removed in tqdm==5.0.0\n",
            "Please use `tqdm.notebook.tqdm` instead of `tqdm.tqdm_notebook`\n",
            "  after removing the cwd from sys.path.\n"
          ]
        },
        {
          "output_type": "display_data",
          "data": {
            "application/vnd.jupyter.widget-view+json": {
              "model_id": "2cb52fddb7e14fe6980e907450737056",
              "version_minor": 0,
              "version_major": 2
            },
            "text/plain": [
              "0it [00:00, ?it/s]"
            ]
          },
          "metadata": {}
        }
      ]
    },
    {
      "cell_type": "code",
      "metadata": {
        "id": "26c564b9"
      },
      "source": [
        "def text_to_array(text):\n",
        "  \n",
        "    empyt_emb = np.zeros(300)\n",
        "    text = text[:-1].split()[:120]\n",
        "  \n",
        "    embeds = [embeddings_index.get(x, empyt_emb) for x in text]\n",
        "    seq_len = len(embeds)\n",
        " \n",
        "    embeds+= [empyt_emb] * (120 - len(embeds))\n",
        "    return np.array(embeds), seq_len\n"
      ],
      "id": "26c564b9",
      "execution_count": null,
      "outputs": []
    },
    {
      "cell_type": "code",
      "source": [
        "# generate validation dataset\n",
        "embeddings = [text_to_array(X_text) for X_text in tqdm(val_df[\"question_text\"][:])]\n",
        "val_x, val_xlen = zip(*embeddings)\n",
        "\n",
        "sorder = np.argsort(val_xlen)[::-1]\n",
        "\n",
        "val_xlen = np.array(val_xlen)[sorder]\n",
        "val_x = np.array(val_x)[sorder]\n",
        "val_y = np.array(val_df[\"target\"][:])[sorder]"
      ],
      "metadata": {
        "id": "TYpNMZdULIS9"
      },
      "id": "TYpNMZdULIS9",
      "execution_count": null,
      "outputs": []
    },
    {
      "cell_type": "code",
      "metadata": {
        "id": "4c47d309"
      },
      "source": [
        "batch_size = 128\n",
        "def batch_gen(train_df):\n",
        "    n_batches = math.ceil(len(train_df) / batch_size)\n",
        "    while True: \n",
        "        train_df = train_df.sample(frac=1.)  # Shuffle the data.\n",
        "        for i in range(n_batches):\n",
        "            texts = train_df.iloc[i*batch_size:(i+1)*batch_size, 1]\n",
        "            text_arr, text_len = zip(*[text_to_array(text) for text in texts])\n",
        "            sorder = np.argsort(text_len)[::-1]\n",
        "            text_arr = np.array(text_arr)[sorder]\n",
        "            text_len = np.array(text_len)[sorder]\n",
        "            yield text_arr, text_len, np.array(train_df[\"target\"][i*batch_size:(i+1)*batch_size])[sorder]"
      ],
      "id": "4c47d309",
      "execution_count": null,
      "outputs": []
    },
    {
      "cell_type": "code",
      "metadata": {
        "id": "ada7bcad"
      },
      "source": [
        "class BiLSTM_model(nn.Module):\n",
        "    def __init__(self, embedding_size=300, hidden_size=128, n_layers = 1):\n",
        "        super(BiLSTM_model, self).__init__()\n",
        "        self.lstm = nn.LSTM(300, hidden_size, \n",
        "                            batch_first=True, num_layers=n_layers,\n",
        "                            bidirectional=True)\n",
        "        \n",
        "        self.fc = nn.Linear(hidden_size*2, 1)\n",
        "        self.sigmoid = nn.Sigmoid()\n",
        "        \n",
        "    def forward(self, x, input_lengths):\n",
        "        x = pack_padded_sequence(x, input_lengths, batch_first=True, enforce_sorted=False)\n",
        "        x, (h1, h2) = self.lstm(x)\n",
        "        out = torch.cat((h1[0], h1[-1]), 1) # TODO check if :2 really is FW and BW of last layer!\n",
        "        out = self.fc(out)\n",
        "        return self.sigmoid(out).flatten()\n",
        "        # return memory"
      ],
      "id": "ada7bcad",
      "execution_count": null,
      "outputs": []
    },
    {
      "cell_type": "code",
      "metadata": {
        "id": "aad5c3fb"
      },
      "source": [
        "from keras.utils.data_utils import GeneratorEnqueuer"
      ],
      "id": "aad5c3fb",
      "execution_count": null,
      "outputs": []
    },
    {
      "cell_type": "code",
      "metadata": {
        "id": "2b3f0930"
      },
      "source": [
        ""
      ],
      "id": "2b3f0930",
      "execution_count": null,
      "outputs": []
    },
    {
      "cell_type": "code",
      "metadata": {
        "id": "e81f851b"
      },
      "source": [
        "def val_gen(batch_size=256):\n",
        "    n_batches = math.ceil(len(val_x) / batch_size)\n",
        "    for idx in range(n_batches):\n",
        "        xb = val_x[idx *batch_size:(idx+1) * batch_size]\n",
        "        xlb = val_xlen[idx *batch_size:(idx+1) * batch_size]\n",
        "        yb = val_y[idx *batch_size:(idx+1) * batch_size]\n",
        "        yield xb, xlb, yb"
      ],
      "id": "e81f851b",
      "execution_count": null,
      "outputs": []
    },
    {
      "cell_type": "code",
      "metadata": {
        "id": "9f270a52",
        "colab": {
          "base_uri": "https://localhost:8080/",
          "height": 726,
          "referenced_widgets": [
            "3ae6e5ffe23b49f7bb7b05461b505da9",
            "419a49939e6940099c8a1c6c2cda026c",
            "7a7e50008c8f44bd9d5f692357cefe35",
            "3da546cf2b794a47ad627df061a3f5f5",
            "7d0b479ba5514d50b03b7d23da795365",
            "ad179c45404b48b99b9f2e83e5d46743",
            "ca0b8692a8144d0daffc621c5de582fd",
            "cae0070b02b94c0f94755bccf80ace05",
            "e196d2b17e01441292a87e1ab809e6e0",
            "81f84f32dfee463e9eb64f5b00445865",
            "95ac80e450e7452d8bbc6680ed5f05cf"
          ]
        },
        "outputId": "6b731815-dc59-40c7-9369-037fbbb09bd9"
      },
      "source": [
        "losses = []\n",
        "losses_ =[]\n",
        "train_vals = []\n",
        "train_vals_ = []\n",
        "vals = []\n",
        "epochs = 1\n",
        "lr_ = 0.0001\n",
        "model = BiLSTM_model()\n",
        "minibatch = 64\n",
        "useminibatch = True\n",
        "hidden = 64\n",
        "n_layers = 2\n",
        "# model.cuda()\n",
        "\n",
        "device = torch.device(\"cuda\" if torch.cuda.is_available() else \"cpu\")\n",
        "\n",
        "model = BiLSTM_model(hidden_size = hidden, n_layers = n_layers)\n",
        "\n",
        "model.to(device)\n",
        "\n",
        "bcloss = nn.BCELoss()\n",
        "\n",
        "my_generator = GeneratorEnqueuer(batch_gen(train_df))\n",
        "my_generator.start()\n",
        "mg =  my_generator.get()\n",
        "\n",
        "model.train()\n",
        "\n",
        "optimizer = optim.Adam(model.parameters(), lr = lr_)\n",
        "for epoch in range(epochs):\n",
        "    indices = np.arange(batch_size)\n",
        "    if useminibatch:\n",
        "      perm = torch.randperm(batch_size)\n",
        "      indices = perm[:minibatch]\n",
        "    print(\"epoch: \", epoch + 1)\n",
        "    for i, (x, xlen, y) in tqdm(enumerate(mg)):\n",
        "  \n",
        "        optimizer.zero_grad()\n",
        "        try:\n",
        "          x = Tensor(x[indices])\n",
        "          y_pred = model(Variable(Tensor(x)).to(device), xlen[indices])\n",
        "          loss = bcloss(y_pred, Tensor(y[indices]).to(device))\n",
        "          \n",
        "          loss.backward()\n",
        "          losses.append(loss.data.cpu().numpy())\n",
        "          optimizer.step()\n",
        "        except:\n",
        "          pass\n",
        "    \n",
        "        if (i + 1) % 1000 == 0:\n",
        "            print(\"Iter: {}\".format(i+1))\n",
        "            print(\"\\tAverage training loss: {:.5f}\".format(np.mean(losses)))\n",
        "            \n",
        "            losses_.append(np.mean(losses))\n",
        "            \n",
        "            losses = []\n",
        "            \n",
        "            model.eval()\n",
        "            all_preds = []\n",
        "            ys = []\n",
        "            for x, xlen, y in val_gen():\n",
        "                y_pred = model(Variable(Tensor(x)).to(device), xlen)\n",
        "                all_preds.extend(y_pred.cpu().data.numpy())\n",
        "          \n",
        "            score = f1_score(val_y, np.array(all_preds).flatten() > 0.5)\n",
        "            \n",
        "            vals.append(score)\n",
        "            print(\"\\tVal F1 score: {:.5f}\".format(score))\n",
        "            model.train()\n",
        "        if (i + 1) % 12000 == 0:  # We are done\n",
        "            break"
      ],
      "id": "9f270a52",
      "execution_count": null,
      "outputs": [
        {
          "output_type": "stream",
          "name": "stdout",
          "text": [
            "epoch:  1\n"
          ]
        },
        {
          "output_type": "stream",
          "name": "stderr",
          "text": [
            "/usr/local/lib/python3.7/dist-packages/ipykernel_launcher.py:32: TqdmDeprecationWarning: This function will be removed in tqdm==5.0.0\n",
            "Please use `tqdm.notebook.tqdm` instead of `tqdm.tqdm_notebook`\n"
          ]
        },
        {
          "output_type": "display_data",
          "data": {
            "application/vnd.jupyter.widget-view+json": {
              "model_id": "3ae6e5ffe23b49f7bb7b05461b505da9",
              "version_minor": 0,
              "version_major": 2
            },
            "text/plain": [
              "0it [00:00, ?it/s]"
            ]
          },
          "metadata": {}
        },
        {
          "output_type": "stream",
          "name": "stdout",
          "text": [
            "Iter: 1000\n",
            "\tAverage training loss: 0.14480\n",
            "\tVal F1 score: 0.52964\n",
            "Iter: 2000\n",
            "\tAverage training loss: 0.12086\n",
            "\tVal F1 score: 0.52473\n",
            "Iter: 3000\n",
            "\tAverage training loss: 0.11777\n",
            "\tVal F1 score: 0.49448\n",
            "Iter: 4000\n",
            "\tAverage training loss: 0.11760\n",
            "\tVal F1 score: 0.60788\n",
            "Iter: 5000\n",
            "\tAverage training loss: 0.11316\n",
            "\tVal F1 score: 0.59150\n",
            "Iter: 6000\n",
            "\tAverage training loss: 0.11189\n",
            "\tVal F1 score: 0.60000\n",
            "Iter: 7000\n",
            "\tAverage training loss: 0.10974\n",
            "\tVal F1 score: 0.54274\n",
            "Iter: 8000\n",
            "\tAverage training loss: 0.11087\n",
            "\tVal F1 score: 0.58736\n",
            "Iter: 9000\n",
            "\tAverage training loss: 0.10741\n",
            "\tVal F1 score: 0.61080\n",
            "Iter: 10000\n",
            "\tAverage training loss: 0.10456\n",
            "\tVal F1 score: 0.63269\n",
            "Iter: 11000\n",
            "\tAverage training loss: 0.10381\n",
            "\tVal F1 score: 0.63178\n",
            "Iter: 12000\n",
            "\tAverage training loss: 0.10362\n",
            "\tVal F1 score: 0.64376\n"
          ]
        }
      ]
    },
    {
      "cell_type": "code",
      "metadata": {
        "id": "0077a7a9",
        "colab": {
          "base_uri": "https://localhost:8080/",
          "height": 282
        },
        "outputId": "baef74b5-9708-4896-bc2c-6bcbfeb64b0f"
      },
      "source": [
        "%matplotlib inline\n",
        "import matplotlib.pyplot as plt\n",
        "\n",
        "plt.plot(losses_)"
      ],
      "id": "0077a7a9",
      "execution_count": null,
      "outputs": [
        {
          "output_type": "execute_result",
          "data": {
            "text/plain": [
              "[<matplotlib.lines.Line2D at 0x7f0a425fac90>]"
            ]
          },
          "metadata": {},
          "execution_count": 116
        },
        {
          "output_type": "display_data",
          "data": {
            "image/png": "[encoded data removed]",
            "text/plain": [
              "<Figure size 432x288 with 1 Axes>"
            ]
          },
          "metadata": {
            "needs_background": "light"
          }
        }
      ]
    },
    {
      "cell_type": "code",
      "metadata": {
        "id": "iU-NRhp46E0w",
        "colab": {
          "base_uri": "https://localhost:8080/",
          "height": 282
        },
        "outputId": "6e3874a7-17a0-4aa1-ddfd-ac2263ae5bb4"
      },
      "source": [
        "plt.plot(vals)"
      ],
      "id": "iU-NRhp46E0w",
      "execution_count": null,
      "outputs": [
        {
          "output_type": "execute_result",
          "data": {
            "text/plain": [
              "[<matplotlib.lines.Line2D at 0x7f0a55081110>]"
            ]
          },
          "metadata": {},
          "execution_count": 117
        },
        {
          "output_type": "display_data",
          "data": {
            "image/png": "[encoded data removed]",
            "text/plain": [
              "<Figure size 432x288 with 1 Axes>"
            ]
          },
          "metadata": {
            "needs_background": "light"
          }
        }
      ]
    },
    {
      "cell_type": "code",
      "metadata": {
        "colab": {
          "base_uri": "https://localhost:8080/"
        },
        "id": "7jPIQKkr6KaJ",
        "outputId": "8585eb4b-b0e9-4694-8ab2-c40b78c948e5"
      },
      "source": [
        "model.eval()\n",
        "all_preds = []\n",
        "for x, xlen, y in val_gen():\n",
        "  y_pred = model(Variable(Tensor(x)), xlen)\n",
        "  all_preds.extend(y_pred.cpu().data.numpy())\n",
        "          \n",
        "print(f1_score(val_y, np.array(all_preds).flatten() > 0.5))\n",
        "print(precision_score(val_y, np.array(all_preds).flatten() > 0.5))\n",
        "print(recall_score(val_y, np.array(all_preds).flatten() > 0.5))"
      ],
      "id": "7jPIQKkr6KaJ",
      "execution_count": null,
      "outputs": [
        {
          "output_type": "stream",
          "name": "stdout",
          "text": [
            "0.64376130198915\n",
            "0.6793893129770993\n",
            "0.6116838487972509\n"
          ]
        }
      ]
    },
    {
      "cell_type": "code",
      "source": [
        ""
      ],
      "metadata": {
        "id": "Nv1knIDa5jtD"
      },
      "id": "Nv1knIDa5jtD",
      "execution_count": null,
      "outputs": []
    }
  ]
}