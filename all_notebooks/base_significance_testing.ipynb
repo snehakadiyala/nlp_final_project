{
 "cells": [
  {
   "cell_type": "code",
   "execution_count": 1,
   "id": "5a36b57d",
   "metadata": {},
   "outputs": [],
   "source": [
    "import pandas as pd\n",
    "import string\n",
    "import re\n",
    "import numpy as np"
   ]
  },
  {
   "cell_type": "code",
   "execution_count": 2,
   "id": "99251b5e",
   "metadata": {},
   "outputs": [],
   "source": [
    "from sklearn.feature_extraction.text import TfidfVectorizer\n",
    "from gensim.models import Word2Vec\n",
    "from sklearn.metrics import classification_report\n",
    "from sklearn.model_selection import train_test_split"
   ]
  },
  {
   "cell_type": "code",
   "execution_count": 3,
   "id": "5c86054e",
   "metadata": {},
   "outputs": [],
   "source": [
    "from sklearn.ensemble import RandomForestClassifier\n",
    "from gensim.models import Word2Vec, KeyedVectors"
   ]
  },
  {
   "cell_type": "code",
   "execution_count": 5,
   "id": "1d8d18ed",
   "metadata": {},
   "outputs": [],
   "source": [
    "questions = pd.read_csv(\"./data/labelled_clean_questions.csv\")"
   ]
  },
  {
   "cell_type": "code",
   "execution_count": 49,
   "id": "e8d36cca",
   "metadata": {},
   "outputs": [],
   "source": [
    "train_balanced = questions[questions['target'] == 1]\n",
    "train_balanced = train_balanced.append(questions[questions['target'] == 0].sample(n = len(train_balanced))).reset_index(drop = True)\n",
    "train_balanced['target'].value_counts()\n",
    "\n",
    "balanced_text = train_balanced[\"clean_tokenized\"].values.astype('U')\n",
    "\n",
    "train_text, test_text, target_train, target_test = train_test_split(balanced_text, train_balanced[\"target\"], test_size=0.25)\n"
   ]
  },
  {
   "cell_type": "code",
   "execution_count": 50,
   "id": "9e4f32dd",
   "metadata": {},
   "outputs": [],
   "source": [
    "vectorizer = TfidfVectorizer(use_idf=True, ngram_range=(1,2))\n",
    "tfidf_model = vectorizer.fit(train_text)\n",
    "train_tfidf = tfidf_model.transform(train_text)\n",
    "test_tfidf = tfidf_model.transform(test_text)"
   ]
  },
  {
   "cell_type": "code",
   "execution_count": 36,
   "id": "5276e3a1",
   "metadata": {},
   "outputs": [],
   "source": [
    "from sklearn.linear_model import SGDClassifier"
   ]
  },
  {
   "cell_type": "code",
   "execution_count": 51,
   "id": "e9ff75fd",
   "metadata": {},
   "outputs": [],
   "source": [
    "clf = SGDClassifier().fit(train_tfidf, target_train)"
   ]
  },
  {
   "cell_type": "code",
   "execution_count": 95,
   "id": "3ebda26c",
   "metadata": {},
   "outputs": [],
   "source": [
    "preds = clf.predict(test_tfidf)"
   ]
  },
  {
   "cell_type": "code",
   "execution_count": 96,
   "id": "8687e23c",
   "metadata": {},
   "outputs": [
    {
     "name": "stdout",
     "output_type": "stream",
     "text": [
      "              precision    recall  f1-score   support\n",
      "\n",
      "           0       0.69      0.67      0.68     20230\n",
      "           1       0.68      0.70      0.69     20175\n",
      "\n",
      "    accuracy                           0.68     40405\n",
      "   macro avg       0.68      0.68      0.68     40405\n",
      "weighted avg       0.68      0.68      0.68     40405\n",
      "\n"
     ]
    }
   ],
   "source": [
    "print(classification_report(target_test, preds))"
   ]
  },
  {
   "cell_type": "code",
   "execution_count": 107,
   "id": "dccf0788",
   "metadata": {},
   "outputs": [],
   "source": [
    "rf = RandomForestClassifier(max_depth= 20, min_samples_leaf= 3,\n",
    "                         min_samples_split= 5, n_estimators= 2000, max_features=\"auto\")\n",
    "rf.fit(train_tfidf, target_train)\n",
    "\n",
    "rf_preds = rf.predict(test_tfidf)"
   ]
  },
  {
   "cell_type": "markdown",
   "id": "b42684ac",
   "metadata": {},
   "source": [
    "Significance T-Testing"
   ]
  },
  {
   "cell_type": "code",
   "execution_count": 103,
   "id": "7a522b43",
   "metadata": {},
   "outputs": [],
   "source": [
    "from scipy.stats import wilcoxon"
   ]
  },
  {
   "cell_type": "code",
   "execution_count": 108,
   "id": "123f108a",
   "metadata": {},
   "outputs": [
    {
     "data": {
      "text/plain": [
       "WilcoxonResult(statistic=29158452.0, pvalue=1.4461457700622444e-84)"
      ]
     },
     "execution_count": 108,
     "metadata": {},
     "output_type": "execute_result"
    }
   ],
   "source": [
    "wilcoxon(rf_preds, preds)"
   ]
  },
  {
   "cell_type": "code",
   "execution_count": 130,
   "id": "d87749cf",
   "metadata": {},
   "outputs": [
    {
     "name": "stdout",
     "output_type": "stream",
     "text": [
      "Requirement already satisfied: pickle-mixin in /Users/skadiyala/.local/share/virtualenvs/nlp-tSIpt5ka/lib/python3.7/site-packages (1.0.2)\r\n"
     ]
    }
   ],
   "source": [
    "!pip install pickle-mixin\n",
    "import pickle\n"
   ]
  },
  {
   "cell_type": "code",
   "execution_count": 131,
   "id": "9dcc5269",
   "metadata": {},
   "outputs": [],
   "source": [
    "with open('tfidf_random_forest.pkl','wb') as f:\n",
    "    pickle.dump(rf,f)"
   ]
  },
  {
   "cell_type": "code",
   "execution_count": 132,
   "id": "1ee76498",
   "metadata": {},
   "outputs": [],
   "source": [
    "with open('base.pkl','wb') as f:\n",
    "    pickle.dump(clf,f)"
   ]
  },
  {
   "cell_type": "code",
   "execution_count": null,
   "id": "2f2a6543",
   "metadata": {},
   "outputs": [],
   "source": []
  }
 ],
 "metadata": {
  "kernelspec": {
   "display_name": "Python 3 (ipykernel)",
   "language": "python",
   "name": "python3"
  },
  "language_info": {
   "codemirror_mode": {
    "name": "ipython",
    "version": 3
   },
   "file_extension": ".py",
   "mimetype": "text/x-python",
   "name": "python",
   "nbconvert_exporter": "python",
   "pygments_lexer": "ipython3",
   "version": "3.7.12"
  }
 },
 "nbformat": 4,
 "nbformat_minor": 5
}
