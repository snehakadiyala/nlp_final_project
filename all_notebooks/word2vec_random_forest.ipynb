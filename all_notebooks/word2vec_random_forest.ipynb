{
 "cells": [
  {
   "cell_type": "code",
   "execution_count": 1,
   "id": "ff4b1f4f",
   "metadata": {},
   "outputs": [],
   "source": [
    "import pandas as pd\n",
    "import string\n",
    "import re\n",
    "import numpy as np"
   ]
  },
  {
   "cell_type": "code",
   "execution_count": 2,
   "id": "6cdfad3a",
   "metadata": {},
   "outputs": [],
   "source": [
    "from sklearn.feature_extraction.text import TfidfVectorizer\n",
    "from gensim.models import Word2Vec\n",
    "from sklearn.metrics import classification_report\n",
    "from sklearn.model_selection import train_test_split"
   ]
  },
  {
   "cell_type": "code",
   "execution_count": 3,
   "id": "7429da5a",
   "metadata": {},
   "outputs": [],
   "source": [
    "from sklearn.ensemble import RandomForestClassifier\n",
    "from gensim.models import Word2Vec, KeyedVectors"
   ]
  },
  {
   "cell_type": "code",
   "execution_count": 4,
   "id": "e8329fd1",
   "metadata": {},
   "outputs": [],
   "source": [
    "questions = pd.read_csv(\"./data/labelled_clean_questions.csv\")"
   ]
  },
  {
   "cell_type": "markdown",
   "id": "806f899c",
   "metadata": {},
   "source": [
    "Custom Word2Vec + Random Forest Model"
   ]
  },
  {
   "cell_type": "code",
   "execution_count": 5,
   "id": "af7c0b2a",
   "metadata": {},
   "outputs": [
    {
     "name": "stdout",
     "output_type": "stream",
     "text": [
      "nan\n",
      "nan\n",
      "nan\n",
      "nan\n",
      "nan\n",
      "nan\n",
      "nan\n",
      "nan\n",
      "Word2Vec(vocab=197642, size=100, alpha=0.025)\n"
     ]
    }
   ],
   "source": [
    "sentences = questions[\"clean_tokenized\"].values.astype(str)\n",
    "questions[\"Custom Word2Vec + Random Forest Modellean_tokenized\"] = questions[\"clean_tokenized\"].apply(lambda x: print(x) if type(x) is float else x.split(\" \"))\n",
    "sentences = questions[\"clean_tokenized\"].values\n",
    "sent = [x for x in sentences if x]\n",
    "model = Word2Vec(sent, min_count=1)\n",
    "print(model)"
   ]
  },
  {
   "cell_type": "code",
   "execution_count": 6,
   "id": "b77b37a5",
   "metadata": {},
   "outputs": [],
   "source": [
    "model.wv.save_word2vec_format('model.bin', binary=True)"
   ]
  },
  {
   "cell_type": "markdown",
   "id": "97287868",
   "metadata": {},
   "source": [
    "Create Vectors from Quora Dataset"
   ]
  },
  {
   "cell_type": "code",
   "execution_count": 21,
   "id": "7ae8e505",
   "metadata": {},
   "outputs": [],
   "source": [
    "def avg_vector(arr): \n",
    "    arr = np.array([model[x] for x in arr if x in model])\n",
    "    return np.mean(arr, axis=0)"
   ]
  },
  {
   "cell_type": "code",
   "execution_count": 23,
   "id": "d8df5dd9",
   "metadata": {},
   "outputs": [
    {
     "name": "stderr",
     "output_type": "stream",
     "text": [
      "/Users/skadiyala/.local/share/virtualenvs/nlp-tSIpt5ka/lib/python3.7/site-packages/ipykernel_launcher.py:2: DeprecationWarning: Call to deprecated `__contains__` (Method will be removed in 4.0.0, use self.wv.__contains__() instead).\n",
      "  \n",
      "/Users/skadiyala/.local/share/virtualenvs/nlp-tSIpt5ka/lib/python3.7/site-packages/ipykernel_launcher.py:2: DeprecationWarning: Call to deprecated `__getitem__` (Method will be removed in 4.0.0, use self.wv.__getitem__() instead).\n",
      "  \n"
     ]
    }
   ],
   "source": [
    "questions[\"word2vec\"] = questions[\"tokenized\"].apply(avg_vector)"
   ]
  },
  {
   "cell_type": "code",
   "execution_count": 27,
   "id": "df88c193",
   "metadata": {},
   "outputs": [],
   "source": [
    "train_balanced = questions[questions['target'] == 1]\n",
    "train_balanced = train_balanced.append(questions[questions['target'] == 0].sample(n = len(train_balanced))).reset_index(drop = True)\n",
    "train_balanced['target'].value_counts()\n",
    "\n",
    "balanced_text = train_balanced[\"word2vec\"]\n",
    "\n",
    "train_text, test_text, target_train, target_test = train_test_split(balanced_text, train_balanced[\"target\"], stratify=train_balanced[\"target\"], test_size=0.25)\n"
   ]
  },
  {
   "cell_type": "code",
   "execution_count": 77,
   "id": "61624664",
   "metadata": {},
   "outputs": [],
   "source": [
    "train_balanced.to_csv(\"./data/questions_clean_word2vec.csv\")"
   ]
  },
  {
   "cell_type": "code",
   "execution_count": 47,
   "id": "ad95ceb3",
   "metadata": {},
   "outputs": [],
   "source": [
    "arr = list(train_text)"
   ]
  },
  {
   "cell_type": "code",
   "execution_count": 68,
   "id": "65a1f079",
   "metadata": {},
   "outputs": [],
   "source": [
    "num_features = 60\n",
    "\n",
    "def same_num_features(train_text):\n",
    "    new = []\n",
    "    padding = [0]*60\n",
    "    for x in train_text: \n",
    "        x = x.tolist()\n",
    "        x.append(padding)\n",
    "        new.append(x[0:60])\n",
    "    return new\n",
    "\n",
    "train_text = same_num_features(train_text)"
   ]
  },
  {
   "cell_type": "code",
   "execution_count": 72,
   "id": "6d2fee8b",
   "metadata": {},
   "outputs": [],
   "source": [
    "test_text = same_num_features(test_text)"
   ]
  },
  {
   "cell_type": "code",
   "execution_count": 70,
   "id": "595d1c08",
   "metadata": {},
   "outputs": [
    {
     "data": {
      "text/plain": [
       "RandomForestClassifier(max_depth=10, min_samples_leaf=3, min_samples_split=3,\n",
       "                       n_estimators=800)"
      ]
     },
     "execution_count": 70,
     "metadata": {},
     "output_type": "execute_result"
    }
   ],
   "source": [
    "clf = RandomForestClassifier(max_depth= 10, min_samples_leaf= 3,\n",
    "                         min_samples_split= 3, n_estimators= 800)\n",
    "clf.fit(train_text, target_train)"
   ]
  },
  {
   "cell_type": "code",
   "execution_count": 75,
   "id": "c27dbfea",
   "metadata": {},
   "outputs": [
    {
     "name": "stdout",
     "output_type": "stream",
     "text": [
      "Collecting pickle-mixin\n",
      "  Downloading pickle-mixin-1.0.2.tar.gz (5.1 kB)\n",
      "Building wheels for collected packages: pickle-mixin\n",
      "  Building wheel for pickle-mixin (setup.py) ... \u001b[?25ldone\n",
      "\u001b[?25h  Created wheel for pickle-mixin: filename=pickle_mixin-1.0.2-py3-none-any.whl size=6008 sha256=26b5fa0c345d77c197907e42cc712f1a77f540ce4143fbc00e1c9079314ddf64\n",
      "  Stored in directory: /Users/skadiyala/Library/Caches/pip/wheels/d0/70/0b/673e09a7ed429660d22352a1b117b4f616a8fc054bdd7eb157\n",
      "Successfully built pickle-mixin\n",
      "Installing collected packages: pickle-mixin\n",
      "Successfully installed pickle-mixin-1.0.2\n"
     ]
    }
   ],
   "source": [
    "!pip install pickle-mixin\n",
    "import pickle\n",
    "with open('word2vec_random_forest.pkl','wb') as f:\n",
    "    pickle.dump(clf,f)"
   ]
  },
  {
   "cell_type": "code",
   "execution_count": 73,
   "id": "0f743d69",
   "metadata": {},
   "outputs": [
    {
     "name": "stdout",
     "output_type": "stream",
     "text": [
      "              precision    recall  f1-score   support\n",
      "\n",
      "           0       0.66      0.69      0.68     20202\n",
      "           1       0.68      0.65      0.66     20203\n",
      "\n",
      "    accuracy                           0.67     40405\n",
      "   macro avg       0.67      0.67      0.67     40405\n",
      "weighted avg       0.67      0.67      0.67     40405\n",
      "\n"
     ]
    }
   ],
   "source": [
    "preds = clf.predict(test_text)\n",
    "print(classification_report(target_test, preds))"
   ]
  },
  {
   "cell_type": "code",
   "execution_count": 34,
   "id": "93488497",
   "metadata": {},
   "outputs": [
    {
     "data": {
      "text/html": [
       "<div>\n",
       "<style scoped>\n",
       "    .dataframe tbody tr th:only-of-type {\n",
       "        vertical-align: middle;\n",
       "    }\n",
       "\n",
       "    .dataframe tbody tr th {\n",
       "        vertical-align: top;\n",
       "    }\n",
       "\n",
       "    .dataframe thead th {\n",
       "        text-align: right;\n",
       "    }\n",
       "</style>\n",
       "<table border=\"1\" class=\"dataframe\">\n",
       "  <thead>\n",
       "    <tr style=\"text-align: right;\">\n",
       "      <th></th>\n",
       "      <th>qid</th>\n",
       "      <th>question_text</th>\n",
       "      <th>target</th>\n",
       "      <th>tokenized</th>\n",
       "      <th>length</th>\n",
       "      <th>clean_tokenized</th>\n",
       "      <th>word2vec</th>\n",
       "    </tr>\n",
       "  </thead>\n",
       "  <tbody>\n",
       "    <tr>\n",
       "      <th>0</th>\n",
       "      <td>00002165364db923c7e6</td>\n",
       "      <td>How did Quebec nationalists see their province...</td>\n",
       "      <td>0</td>\n",
       "      <td>['How', 'did', 'Quebec', 'nationalists', 'see'...</td>\n",
       "      <td>14</td>\n",
       "      <td>[how, did, quebec, nationalist, see, their, pr...</td>\n",
       "      <td>[-0.3253699, -0.21867748, 0.17936249, 1.040233...</td>\n",
       "    </tr>\n",
       "    <tr>\n",
       "      <th>1</th>\n",
       "      <td>000032939017120e6e44</td>\n",
       "      <td>Do you have an adopted dog, how would you enco...</td>\n",
       "      <td>0</td>\n",
       "      <td>['Do', 'you', 'have', 'an', 'adopted', 'dog', ...</td>\n",
       "      <td>18</td>\n",
       "      <td>[do, you, have, an, adopt, dog, how, would, yo...</td>\n",
       "      <td>[-0.43439114, -0.57571846, 0.3039751, 1.102035...</td>\n",
       "    </tr>\n",
       "    <tr>\n",
       "      <th>2</th>\n",
       "      <td>0000412ca6e4628ce2cf</td>\n",
       "      <td>Why does velocity affect time? Does velocity a...</td>\n",
       "      <td>0</td>\n",
       "      <td>['Why', 'does', 'velocity', 'affect', 'time', ...</td>\n",
       "      <td>12</td>\n",
       "      <td>[whi, doe, veloc, affect, time, ?, doe, veloc,...</td>\n",
       "      <td>[-0.3108829, -0.5737844, 0.45734033, 0.9274742...</td>\n",
       "    </tr>\n",
       "    <tr>\n",
       "      <th>3</th>\n",
       "      <td>000042bf85aa498cd78e</td>\n",
       "      <td>How did Otto von Guericke used the Magdeburg h...</td>\n",
       "      <td>0</td>\n",
       "      <td>['How', 'did', 'Otto', 'von', 'Guericke', 'use...</td>\n",
       "      <td>10</td>\n",
       "      <td>[how, did, otto, von, guerick, use, the, magde...</td>\n",
       "      <td>[-0.53613114, -0.3556412, 0.37920538, 0.949985...</td>\n",
       "    </tr>\n",
       "    <tr>\n",
       "      <th>4</th>\n",
       "      <td>0000455dfa3e01eae3af</td>\n",
       "      <td>Can I convert montra helicon D to a mountain b...</td>\n",
       "      <td>0</td>\n",
       "      <td>['Can', 'I', 'convert', 'montra', 'helicon', '...</td>\n",
       "      <td>16</td>\n",
       "      <td>[can, i, convert, montra, helicon, d, to, a, m...</td>\n",
       "      <td>[-0.42371547, -0.32201287, 0.27109084, 1.04583...</td>\n",
       "    </tr>\n",
       "    <tr>\n",
       "      <th>...</th>\n",
       "      <td>...</td>\n",
       "      <td>...</td>\n",
       "      <td>...</td>\n",
       "      <td>...</td>\n",
       "      <td>...</td>\n",
       "      <td>...</td>\n",
       "      <td>...</td>\n",
       "    </tr>\n",
       "    <tr>\n",
       "      <th>1306117</th>\n",
       "      <td>ffffcc4e2331aaf1e41e</td>\n",
       "      <td>What other technical skills do you need as a c...</td>\n",
       "      <td>0</td>\n",
       "      <td>['What', 'other', 'technical', 'skills', 'do',...</td>\n",
       "      <td>18</td>\n",
       "      <td>[what, other, technic, skill, do, you, need, a...</td>\n",
       "      <td>[-0.43368655, -0.44589114, 0.36363015, 1.05633...</td>\n",
       "    </tr>\n",
       "    <tr>\n",
       "      <th>1306118</th>\n",
       "      <td>ffffd431801e5a2f4861</td>\n",
       "      <td>Does MS in ECE have good job prospects in USA ...</td>\n",
       "      <td>0</td>\n",
       "      <td>['Does', 'MS', 'in', 'ECE', 'have', 'good', 'j...</td>\n",
       "      <td>20</td>\n",
       "      <td>[doe, ms, in, ece, have, good, job, prospect, ...</td>\n",
       "      <td>[-0.44217533, -0.5285403, 0.4141498, 1.0824167...</td>\n",
       "    </tr>\n",
       "    <tr>\n",
       "      <th>1306119</th>\n",
       "      <td>ffffd48fb36b63db010c</td>\n",
       "      <td>Is foam insulation toxic?</td>\n",
       "      <td>0</td>\n",
       "      <td>['Is', 'foam', 'insulation', 'toxic', '?']</td>\n",
       "      <td>5</td>\n",
       "      <td>[is, foam, insul, toxic, ?]</td>\n",
       "      <td>[-0.28936014, 0.04574925, -0.1001611, 0.978329...</td>\n",
       "    </tr>\n",
       "    <tr>\n",
       "      <th>1306120</th>\n",
       "      <td>ffffec519fa37cf60c78</td>\n",
       "      <td>How can one start a research project based on ...</td>\n",
       "      <td>0</td>\n",
       "      <td>['How', 'can', 'one', 'start', 'a', 'research'...</td>\n",
       "      <td>14</td>\n",
       "      <td>[how, can, one, start, a, research, project, b...</td>\n",
       "      <td>[-0.32839063, -0.6131454, 0.36521408, 1.177455...</td>\n",
       "    </tr>\n",
       "    <tr>\n",
       "      <th>1306121</th>\n",
       "      <td>ffffed09fedb5088744a</td>\n",
       "      <td>Who wins in a battle between a Wolverine and a...</td>\n",
       "      <td>0</td>\n",
       "      <td>['Who', 'wins', 'in', 'a', 'battle', 'between'...</td>\n",
       "      <td>12</td>\n",
       "      <td>[who, win, in, a, battl, between, a, wolverin,...</td>\n",
       "      <td>[-0.36529803, -0.44197863, 0.18303949, 1.12550...</td>\n",
       "    </tr>\n",
       "  </tbody>\n",
       "</table>\n",
       "<p>1306122 rows × 7 columns</p>\n",
       "</div>"
      ],
      "text/plain": [
       "                          qid  \\\n",
       "0        00002165364db923c7e6   \n",
       "1        000032939017120e6e44   \n",
       "2        0000412ca6e4628ce2cf   \n",
       "3        000042bf85aa498cd78e   \n",
       "4        0000455dfa3e01eae3af   \n",
       "...                       ...   \n",
       "1306117  ffffcc4e2331aaf1e41e   \n",
       "1306118  ffffd431801e5a2f4861   \n",
       "1306119  ffffd48fb36b63db010c   \n",
       "1306120  ffffec519fa37cf60c78   \n",
       "1306121  ffffed09fedb5088744a   \n",
       "\n",
       "                                             question_text  target  \\\n",
       "0        How did Quebec nationalists see their province...       0   \n",
       "1        Do you have an adopted dog, how would you enco...       0   \n",
       "2        Why does velocity affect time? Does velocity a...       0   \n",
       "3        How did Otto von Guericke used the Magdeburg h...       0   \n",
       "4        Can I convert montra helicon D to a mountain b...       0   \n",
       "...                                                    ...     ...   \n",
       "1306117  What other technical skills do you need as a c...       0   \n",
       "1306118  Does MS in ECE have good job prospects in USA ...       0   \n",
       "1306119                          Is foam insulation toxic?       0   \n",
       "1306120  How can one start a research project based on ...       0   \n",
       "1306121  Who wins in a battle between a Wolverine and a...       0   \n",
       "\n",
       "                                                 tokenized  length  \\\n",
       "0        ['How', 'did', 'Quebec', 'nationalists', 'see'...      14   \n",
       "1        ['Do', 'you', 'have', 'an', 'adopted', 'dog', ...      18   \n",
       "2        ['Why', 'does', 'velocity', 'affect', 'time', ...      12   \n",
       "3        ['How', 'did', 'Otto', 'von', 'Guericke', 'use...      10   \n",
       "4        ['Can', 'I', 'convert', 'montra', 'helicon', '...      16   \n",
       "...                                                    ...     ...   \n",
       "1306117  ['What', 'other', 'technical', 'skills', 'do',...      18   \n",
       "1306118  ['Does', 'MS', 'in', 'ECE', 'have', 'good', 'j...      20   \n",
       "1306119         ['Is', 'foam', 'insulation', 'toxic', '?']       5   \n",
       "1306120  ['How', 'can', 'one', 'start', 'a', 'research'...      14   \n",
       "1306121  ['Who', 'wins', 'in', 'a', 'battle', 'between'...      12   \n",
       "\n",
       "                                           clean_tokenized  \\\n",
       "0        [how, did, quebec, nationalist, see, their, pr...   \n",
       "1        [do, you, have, an, adopt, dog, how, would, yo...   \n",
       "2        [whi, doe, veloc, affect, time, ?, doe, veloc,...   \n",
       "3        [how, did, otto, von, guerick, use, the, magde...   \n",
       "4        [can, i, convert, montra, helicon, d, to, a, m...   \n",
       "...                                                    ...   \n",
       "1306117  [what, other, technic, skill, do, you, need, a...   \n",
       "1306118  [doe, ms, in, ece, have, good, job, prospect, ...   \n",
       "1306119                        [is, foam, insul, toxic, ?]   \n",
       "1306120  [how, can, one, start, a, research, project, b...   \n",
       "1306121  [who, win, in, a, battl, between, a, wolverin,...   \n",
       "\n",
       "                                                  word2vec  \n",
       "0        [-0.3253699, -0.21867748, 0.17936249, 1.040233...  \n",
       "1        [-0.43439114, -0.57571846, 0.3039751, 1.102035...  \n",
       "2        [-0.3108829, -0.5737844, 0.45734033, 0.9274742...  \n",
       "3        [-0.53613114, -0.3556412, 0.37920538, 0.949985...  \n",
       "4        [-0.42371547, -0.32201287, 0.27109084, 1.04583...  \n",
       "...                                                    ...  \n",
       "1306117  [-0.43368655, -0.44589114, 0.36363015, 1.05633...  \n",
       "1306118  [-0.44217533, -0.5285403, 0.4141498, 1.0824167...  \n",
       "1306119  [-0.28936014, 0.04574925, -0.1001611, 0.978329...  \n",
       "1306120  [-0.32839063, -0.6131454, 0.36521408, 1.177455...  \n",
       "1306121  [-0.36529803, -0.44197863, 0.18303949, 1.12550...  \n",
       "\n",
       "[1306122 rows x 7 columns]"
      ]
     },
     "execution_count": 34,
     "metadata": {},
     "output_type": "execute_result"
    }
   ],
   "source": [
    "questions"
   ]
  },
  {
   "cell_type": "code",
   "execution_count": null,
   "id": "e65bdf84",
   "metadata": {},
   "outputs": [],
   "source": []
  }
 ],
 "metadata": {
  "kernelspec": {
   "display_name": "Python 3 (ipykernel)",
   "language": "python",
   "name": "python3"
  },
  "language_info": {
   "codemirror_mode": {
    "name": "ipython",
    "version": 3
   },
   "file_extension": ".py",
   "mimetype": "text/x-python",
   "name": "python",
   "nbconvert_exporter": "python",
   "pygments_lexer": "ipython3",
   "version": "3.7.12"
  }
 },
 "nbformat": 4,
 "nbformat_minor": 5
}
