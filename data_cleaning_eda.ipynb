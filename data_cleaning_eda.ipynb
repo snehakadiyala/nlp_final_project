{
 "cells": [
  {
   "cell_type": "code",
   "execution_count": 23,
   "id": "7e26aa67",
   "metadata": {},
   "outputs": [],
   "source": [
    "import pandas as pd\n",
    "import string\n",
    "import re\n",
    "import numpy as np\n",
    "\n",
    "import matplotlib.pyplot as plt\n",
    "import seaborn as sns\n",
    "from matplotlib.pyplot import figure\n",
    "\n",
    "\n",
    "\n",
    "from nltk.tokenize import word_tokenize\n",
    "from nltk.corpus import stopwords\n",
    "from nltk.stem import PorterStemmer"
   ]
  },
  {
   "cell_type": "code",
   "execution_count": 10,
   "id": "2867fec6",
   "metadata": {},
   "outputs": [],
   "source": [
    "questions_df = pd.read_csv(\"./data/labelled_questions.csv\")"
   ]
  },
  {
   "cell_type": "code",
   "execution_count": 15,
   "id": "d24410cd",
   "metadata": {},
   "outputs": [],
   "source": [
    "questions_df['tokenized'] = questions_df[\"question_text\"].apply(word_tokenize)"
   ]
  },
  {
   "cell_type": "code",
   "execution_count": 21,
   "id": "b8cfaf31",
   "metadata": {},
   "outputs": [],
   "source": [
    "questions_df[\"length\"] = questions_df[\"tokenized\"].apply(len)"
   ]
  },
  {
   "cell_type": "code",
   "execution_count": 32,
   "id": "8c29988c",
   "metadata": {},
   "outputs": [],
   "source": [
    "length_0 = questions_df.iloc[np.where(questions_df[\"target\"] == 0)][\"length\"]\n",
    "length_1 = questions_df.iloc[np.where(questions_df[\"target\"] == 1)][\"length\"]"
   ]
  },
  {
   "cell_type": "code",
   "execution_count": 43,
   "id": "d6a0412d",
   "metadata": {},
   "outputs": [
    {
     "data": {
      "text/plain": [
       "{'whiskers': [<matplotlib.lines.Line2D at 0x1aa1f6810>,\n",
       "  <matplotlib.lines.Line2D at 0x1aa1f6c50>,\n",
       "  <matplotlib.lines.Line2D at 0x1aa20e6d0>,\n",
       "  <matplotlib.lines.Line2D at 0x1aa20ead0>],\n",
       " 'caps': [<matplotlib.lines.Line2D at 0x1aa2000d0>,\n",
       "  <matplotlib.lines.Line2D at 0x1aa200510>,\n",
       "  <matplotlib.lines.Line2D at 0x1aa20ef10>,\n",
       "  <matplotlib.lines.Line2D at 0x1aa21b390>],\n",
       " 'boxes': [<matplotlib.lines.Line2D at 0x1aa1f6450>,\n",
       "  <matplotlib.lines.Line2D at 0x1aa20e290>],\n",
       " 'medians': [<matplotlib.lines.Line2D at 0x1aa200990>,\n",
       "  <matplotlib.lines.Line2D at 0x1aa21b7d0>],\n",
       " 'fliers': [<matplotlib.lines.Line2D at 0x1aa200dd0>,\n",
       "  <matplotlib.lines.Line2D at 0x1aa21bc10>],\n",
       " 'means': []}"
      ]
     },
     "execution_count": 43,
     "metadata": {},
     "output_type": "execute_result"
    },
    {
     "data": {
      "image/png": "[encoded data removed]",
      "text/plain": [
       "<Figure size 960x480 with 1 Axes>"
      ]
     },
     "metadata": {
      "needs_background": "light"
     },
     "output_type": "display_data"
    }
   ],
   "source": [
    "figure(figsize=(12, 6), dpi=80)\n",
    "plt.boxplot([length_0, length_1], vert = False, labels=[\"0\", \"1\"])"
   ]
  },
  {
   "cell_type": "code",
   "execution_count": 56,
   "id": "97316da3",
   "metadata": {},
   "outputs": [
    {
     "data": {
      "text/plain": [
       "<AxesSubplot:ylabel='Count'>"
      ]
     },
     "execution_count": 56,
     "metadata": {},
     "output_type": "execute_result"
    },
    {
     "data": {
      "image/png": "[encoded data removed]",
      "text/plain": [
       "<Figure size 960x480 with 1 Axes>"
      ]
     },
     "metadata": {
      "needs_background": "light"
     },
     "output_type": "display_data"
    }
   ],
   "source": [
    "figure(figsize=(12, 6), dpi=80)\n",
    "sns.histplot(np.array(length_0))"
   ]
  },
  {
   "cell_type": "code",
   "execution_count": 62,
   "id": "fd47f4f2",
   "metadata": {},
   "outputs": [
    {
     "data": {
      "image/png": "[encoded data removed]",
      "text/plain": [
       "<Figure size 960x480 with 1 Axes>"
      ]
     },
     "metadata": {
      "needs_background": "light"
     },
     "output_type": "display_data"
    }
   ],
   "source": [
    "figure(figsize=(12, 6), dpi=80)\n",
    "sns.histplot(np.array(length_1)).set(xlim=(0,200))\n",
    "plt.show()"
   ]
  },
  {
   "cell_type": "code",
   "execution_count": 71,
   "id": "3bc6c342",
   "metadata": {},
   "outputs": [
    {
     "name": "stdout",
     "output_type": "stream",
     "text": [
      "Avg for sincere questions: \t14.111272067848843\n",
      "Avg for insincere questions: \t19.593664150476425\n",
      "Max length for sincere questions: \t182\n",
      "Max length for insincere questions: \t412\n",
      "Min length for sincere questions: \t3\n",
      "Min length for insincere questions: \t1\n",
      "Median length for sincere questions: \t12.0\n",
      "Median length for insincere questions: \t12.0\n"
     ]
    }
   ],
   "source": [
    "print(\"Avg for sincere questions: \\t\" + str(np.mean(length_0)))\n",
    "print(\"Avg for insincere questions: \\t\" + str(np.mean(length_1)))\n",
    "print(\"Max length for sincere questions: \\t\" + str(np.max(length_0)))\n",
    "print(\"Max length for insincere questions: \\t\" + str(np.max(length_1)))\n",
    "print(\"Min length for sincere questions: \\t\" + str(np.min(length_0)))\n",
    "print(\"Min length for insincere questions: \\t\" + str(np.min(length_1)))\n",
    "print(\"Median length for sincere questions: \\t\" + str(np.median(length_0)))\n",
    "print(\"Median length for insincere questions: \\t\" + str(np.median(length_0)))"
   ]
  },
  {
   "cell_type": "code",
   "execution_count": 95,
   "id": "3e5ccbbf",
   "metadata": {},
   "outputs": [],
   "source": [
    "tokens = list(np.concatenate(questions_df[\"tokenized\"], axis=0))"
   ]
  },
  {
   "cell_type": "code",
   "execution_count": 98,
   "id": "1ab8e87b",
   "metadata": {},
   "outputs": [],
   "source": [
    "from collections import Counter\n",
    "tokenCounter = Counter(tokens)"
   ]
  },
  {
   "cell_type": "code",
   "execution_count": 93,
   "id": "15a735de",
   "metadata": {},
   "outputs": [
    {
     "data": {
      "text/plain": [
       "[('?', 1381192),\n",
       " ('the', 654999),\n",
       " ('What', 432487),\n",
       " ('to', 405759),\n",
       " ('a', 403687),\n",
       " ('in', 366616),\n",
       " ('is', 335670),\n",
       " ('of', 332817),\n",
       " ('I', 329018),\n",
       " ('How', 263042),\n",
       " ('and', 252933),\n",
       " (',', 231447),\n",
       " ('do', 228247),\n",
       " ('are', 215408),\n",
       " ('for', 201839),\n",
       " ('you', 200286),\n",
       " ('Why', 145107),\n",
       " ('it', 140297),\n",
       " ('can', 126790),\n",
       " ('Is', 110188),\n",
       " ('that', 107342),\n",
       " ('my', 104274),\n",
       " ('.', 95996),\n",
       " ('with', 94439),\n",
       " ('on', 93331),\n",
       " ('be', 91501),\n",
       " ('or', 91245),\n",
       " ('have', 86522),\n",
       " (\"'s\", 70157),\n",
       " ('does', 69010),\n",
       " ('from', 68497),\n",
       " ('your', 67260),\n",
       " ('an', 66873),\n",
       " ('if', 64005),\n",
       " ('get', 62456),\n",
       " ('best', 62267),\n",
       " ('(', 56618),\n",
       " (')', 56594),\n",
       " ('as', 55700),\n",
       " ('people', 55508)]"
      ]
     },
     "execution_count": 93,
     "metadata": {},
     "output_type": "execute_result"
    }
   ],
   "source": [
    "Counter.most_common(60)"
   ]
  },
  {
   "cell_type": "code",
   "execution_count": 99,
   "id": "6790d174",
   "metadata": {},
   "outputs": [],
   "source": [
    "# More cleaning \n",
    "\n",
    "def clean(sentence):\n",
    "    x = sentence.lower()\n",
    "    x = re.sub(r'https?:\\/\\/.*[\\r\\n]*', '', x)\n",
    "    x = re.sub(r'http?:\\/\\/.*[\\r\\n]*', '', x)\n",
    "    x = x.replace(r'&amp;?', r'and')\n",
    "    x = x.replace(r'&lt;', r'<')\n",
    "    x = x.replace(r'&gt;', r'>')\n",
    "    x = re.sub(r\"(?:\\@)\\w+\", '', x)\n",
    "    x = x.encode(\"ascii\", errors=\"ignore\").decode()\n",
    "    x = re.sub(r'[:\"#$%&\\*+,-/:;<=>@\\\\^_`{|}~]+', '', x)\n",
    "    x = re.sub(r'[!]+', '!', x)\n",
    "    x = re.sub(r'[?]+', '?', x)\n",
    "    x = re.sub(r'[.]+', '.', x)\n",
    "    x = re.sub(r\"'\", \"\", x)\n",
    "    x = re.sub(r\"\\(\", \"\", x)\n",
    "    x = re.sub(r\"\\)\", \"\", x)\n",
    "    \n",
    "    tokenized_word = word_tokenize(x)\n",
    "    ps = PorterStemmer()\n",
    "    stemmed_words=[]\n",
    "    \n",
    "    for word in tokenized_word:\n",
    "        stemmed_words.append(ps.stem(word))\n",
    "\n",
    "    text = ' '.join(stemmed_words)\n",
    "\n",
    "    return text\n",
    "\n",
    "\n",
    "questions_df[\"clean_tokenized\"] = questions_df[\"question_text\"].apply(lambda x: clean(x))"
   ]
  },
  {
   "cell_type": "code",
   "execution_count": 100,
   "id": "fb06ae38",
   "metadata": {},
   "outputs": [],
   "source": [
    "questions_df.to_csv(\"./data/labelled_clean_questions.csv\", index=False)"
   ]
  },
  {
   "cell_type": "code",
   "execution_count": null,
   "id": "c691a4a4",
   "metadata": {},
   "outputs": [],
   "source": []
  }
 ],
 "metadata": {
  "kernelspec": {
   "display_name": "Python 3 (ipykernel)",
   "language": "python",
   "name": "python3"
  },
  "language_info": {
   "codemirror_mode": {
    "name": "ipython",
    "version": 3
   },
   "file_extension": ".py",
   "mimetype": "text/x-python",
   "name": "python",
   "nbconvert_exporter": "python",
   "pygments_lexer": "ipython3",
   "version": "3.7.12"
  }
 },
 "nbformat": 4,
 "nbformat_minor": 5
}
